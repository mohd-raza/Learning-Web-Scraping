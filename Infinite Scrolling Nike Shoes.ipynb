{
 "cells": [
  {
   "cell_type": "code",
   "execution_count": 31,
   "id": "0efa2299",
   "metadata": {},
   "outputs": [],
   "source": [
    "from selenium import webdriver\n",
    "from selenium.webdriver.common.by import By\n",
    "from bs4 import BeautifulSoup\n",
    "import pandas as pd\n",
    "import time"
   ]
  },
  {
   "cell_type": "markdown",
   "id": "e735332f",
   "metadata": {},
   "source": [
    "# Nike Shoes Data"
   ]
  },
  {
   "cell_type": "code",
   "execution_count": 33,
   "id": "11469105",
   "metadata": {},
   "outputs": [
    {
     "name": "stderr",
     "output_type": "stream",
     "text": [
      "C:\\Users\\Hp\\AppData\\Local\\Temp/ipykernel_14644/3982984277.py:1: DeprecationWarning: executable_path has been deprecated, please pass in a Service object\n",
      "  driver = webdriver.Chrome(\"C:\\\\Users\\Hp\\Documents\\chromedriver.exe\")\n"
     ]
    }
   ],
   "source": [
    "driver = webdriver.Chrome(\"C:\\\\Users\\Hp\\Documents\\chromedriver.exe\")\n",
    "driver.get('https://www.nike.com/in/w/tops-t-shirts-9om13')"
   ]
  },
  {
   "cell_type": "code",
   "execution_count": 34,
   "id": "910e1644",
   "metadata": {},
   "outputs": [],
   "source": [
    "# get the height of the current page\n",
    "last_height = driver.execute_script('return document.body.scrollHeight')"
   ]
  },
  {
   "cell_type": "code",
   "execution_count": 35,
   "id": "099d642d",
   "metadata": {},
   "outputs": [
    {
     "data": {
      "text/plain": [
       "4437"
      ]
     },
     "execution_count": 35,
     "metadata": {},
     "output_type": "execute_result"
    }
   ],
   "source": [
    "last_height"
   ]
  },
  {
   "cell_type": "code",
   "execution_count": 36,
   "id": "0b7e36d9",
   "metadata": {},
   "outputs": [],
   "source": [
    "while True:\n",
    "    driver.execute_script('window.scrollTo(0,document.body.scrollHeight)')\n",
    "    time.sleep(3)\n",
    "    new_height = driver.execute_script('return document.body.scrollHeight')\n",
    "    if(new_height == last_height):\n",
    "        break\n",
    "    last_height = new_height"
   ]
  },
  {
   "cell_type": "code",
   "execution_count": 37,
   "id": "14f08cc9",
   "metadata": {},
   "outputs": [
    {
     "data": {
      "text/plain": [
       "14376"
      ]
     },
     "execution_count": 37,
     "metadata": {},
     "output_type": "execute_result"
    }
   ],
   "source": [
    "last_height"
   ]
  },
  {
   "cell_type": "markdown",
   "id": "81c4b226",
   "metadata": {},
   "source": [
    "**After finishing the infinite scrolling we'll get the product details**"
   ]
  },
  {
   "cell_type": "code",
   "execution_count": 38,
   "id": "99782bcb",
   "metadata": {},
   "outputs": [],
   "source": [
    "soup = BeautifulSoup(driver.page_source,'lxml')"
   ]
  },
  {
   "cell_type": "code",
   "execution_count": 39,
   "id": "2c988080",
   "metadata": {},
   "outputs": [
    {
     "data": {
      "text/plain": [
       "96"
      ]
     },
     "execution_count": 39,
     "metadata": {},
     "output_type": "execute_result"
    }
   ],
   "source": [
    "product_card = soup.find_all('div',class_ = 'product-card__body')\n",
    "len(product_card)"
   ]
  },
  {
   "cell_type": "code",
   "execution_count": 43,
   "id": "67773f89",
   "metadata": {},
   "outputs": [],
   "source": [
    "df = pd.DataFrame({'Link':[''],'Name':[''],'Description':[''],'Price(INR)':['']})"
   ]
  },
  {
   "cell_type": "code",
   "execution_count": 46,
   "id": "69b7704f",
   "metadata": {},
   "outputs": [],
   "source": [
    "for product in product_card:\n",
    "    try: \n",
    "        link = product.find('a',class_ = 'product-card__link-overlay').get('href')\n",
    "        name = product.find('div',class_ = \"product-card__title\").text\n",
    "        desc = product.find('div',class_ = \"product-card__subtitle\").text\n",
    "        price = product.find('div',class_ = \"product-price css-11s12ax is--current-price\").text\n",
    "        df = df.append({'Link':link,'Name':name,'Description':desc,'Price(INR)':price},ignore_index=True)\n",
    "    except:\n",
    "        pass\n",
    "    "
   ]
  },
  {
   "cell_type": "code",
   "execution_count": 47,
   "id": "9c8a07fc",
   "metadata": {},
   "outputs": [
    {
     "data": {
      "text/html": [
       "<div>\n",
       "<style scoped>\n",
       "    .dataframe tbody tr th:only-of-type {\n",
       "        vertical-align: middle;\n",
       "    }\n",
       "\n",
       "    .dataframe tbody tr th {\n",
       "        vertical-align: top;\n",
       "    }\n",
       "\n",
       "    .dataframe thead th {\n",
       "        text-align: right;\n",
       "    }\n",
       "</style>\n",
       "<table border=\"1\" class=\"dataframe\">\n",
       "  <thead>\n",
       "    <tr style=\"text-align: right;\">\n",
       "      <th></th>\n",
       "      <th>Link</th>\n",
       "      <th>Name</th>\n",
       "      <th>Description</th>\n",
       "      <th>Price(INR)</th>\n",
       "    </tr>\n",
       "  </thead>\n",
       "  <tbody>\n",
       "    <tr>\n",
       "      <th>0</th>\n",
       "      <td></td>\n",
       "      <td></td>\n",
       "      <td></td>\n",
       "      <td></td>\n",
       "    </tr>\n",
       "    <tr>\n",
       "      <th>1</th>\n",
       "      <td>https://www.nike.com/in/t/paris-saint-germain-...</td>\n",
       "      <td>Paris Saint-Germain Club</td>\n",
       "      <td>Men's Fleece Pullover Hoodie</td>\n",
       "      <td>₹3,495</td>\n",
       "    </tr>\n",
       "    <tr>\n",
       "      <th>2</th>\n",
       "      <td>https://www.nike.com/in/t/paris-saint-germain-...</td>\n",
       "      <td>Paris Saint-Germain 2022/23 Stadium Home</td>\n",
       "      <td>Older Kids' Nike Dri-FIT Football Shirt</td>\n",
       "      <td>₹3,995</td>\n",
       "    </tr>\n",
       "    <tr>\n",
       "      <th>3</th>\n",
       "      <td>https://www.nike.com/in/t/jordan-nina-chanel-a...</td>\n",
       "      <td>Jordan x Nina Chanel Abney</td>\n",
       "      <td>Women's Hoodie</td>\n",
       "      <td>₹8,995</td>\n",
       "    </tr>\n",
       "    <tr>\n",
       "      <th>4</th>\n",
       "      <td>https://www.nike.com/in/t/jordan-funnel-neck-t...</td>\n",
       "      <td>Jordan</td>\n",
       "      <td>Women's Funnel-Neck Top</td>\n",
       "      <td>₹6,495</td>\n",
       "    </tr>\n",
       "    <tr>\n",
       "      <th>...</th>\n",
       "      <td>...</td>\n",
       "      <td>...</td>\n",
       "      <td>...</td>\n",
       "      <td>...</td>\n",
       "    </tr>\n",
       "    <tr>\n",
       "      <th>87</th>\n",
       "      <td>https://www.nike.com/in/t/dri-fit-dye-training...</td>\n",
       "      <td>Nike Dri-FIT D.Y.E.</td>\n",
       "      <td>Men's Training Tank</td>\n",
       "      <td>₹2,595</td>\n",
       "    </tr>\n",
       "    <tr>\n",
       "      <th>88</th>\n",
       "      <td>https://www.nike.com/in/t/dri-fit-icon-clash-l...</td>\n",
       "      <td>Nike Dri-FIT Icon Clash</td>\n",
       "      <td>Women's Long-Sleeve Running Top</td>\n",
       "      <td>₹3,995</td>\n",
       "    </tr>\n",
       "    <tr>\n",
       "      <th>89</th>\n",
       "      <td>https://www.nike.com/in/t/nikecourt-seasonal-t...</td>\n",
       "      <td>NikeCourt</td>\n",
       "      <td>Men's Seasonal Tennis T-Shirt</td>\n",
       "      <td>₹1,795</td>\n",
       "    </tr>\n",
       "    <tr>\n",
       "      <th>90</th>\n",
       "      <td>https://www.nike.com/in/t/dri-fit-swoosh-run-s...</td>\n",
       "      <td>Nike Dri-FIT Swoosh Run</td>\n",
       "      <td>Women's Short-Sleeve Running Top</td>\n",
       "      <td>₹1,995</td>\n",
       "    </tr>\n",
       "    <tr>\n",
       "      <th>91</th>\n",
       "      <td>https://www.nike.com/in/t/jordan-zion-t-shirt-...</td>\n",
       "      <td>Jordan x Zion</td>\n",
       "      <td>Men's T-Shirt</td>\n",
       "      <td>₹2,195</td>\n",
       "    </tr>\n",
       "  </tbody>\n",
       "</table>\n",
       "<p>92 rows × 4 columns</p>\n",
       "</div>"
      ],
      "text/plain": [
       "                                                 Link  \\\n",
       "0                                                       \n",
       "1   https://www.nike.com/in/t/paris-saint-germain-...   \n",
       "2   https://www.nike.com/in/t/paris-saint-germain-...   \n",
       "3   https://www.nike.com/in/t/jordan-nina-chanel-a...   \n",
       "4   https://www.nike.com/in/t/jordan-funnel-neck-t...   \n",
       "..                                                ...   \n",
       "87  https://www.nike.com/in/t/dri-fit-dye-training...   \n",
       "88  https://www.nike.com/in/t/dri-fit-icon-clash-l...   \n",
       "89  https://www.nike.com/in/t/nikecourt-seasonal-t...   \n",
       "90  https://www.nike.com/in/t/dri-fit-swoosh-run-s...   \n",
       "91  https://www.nike.com/in/t/jordan-zion-t-shirt-...   \n",
       "\n",
       "                                        Name  \\\n",
       "0                                              \n",
       "1                   Paris Saint-Germain Club   \n",
       "2   Paris Saint-Germain 2022/23 Stadium Home   \n",
       "3                 Jordan x Nina Chanel Abney   \n",
       "4                                     Jordan   \n",
       "..                                       ...   \n",
       "87                       Nike Dri-FIT D.Y.E.   \n",
       "88                   Nike Dri-FIT Icon Clash   \n",
       "89                                 NikeCourt   \n",
       "90                   Nike Dri-FIT Swoosh Run   \n",
       "91                             Jordan x Zion   \n",
       "\n",
       "                                Description Price(INR)  \n",
       "0                                                       \n",
       "1              Men's Fleece Pullover Hoodie     ₹3,495  \n",
       "2   Older Kids' Nike Dri-FIT Football Shirt     ₹3,995  \n",
       "3                            Women's Hoodie     ₹8,995  \n",
       "4                   Women's Funnel-Neck Top     ₹6,495  \n",
       "..                                      ...        ...  \n",
       "87                      Men's Training Tank     ₹2,595  \n",
       "88          Women's Long-Sleeve Running Top     ₹3,995  \n",
       "89            Men's Seasonal Tennis T-Shirt     ₹1,795  \n",
       "90         Women's Short-Sleeve Running Top     ₹1,995  \n",
       "91                            Men's T-Shirt     ₹2,195  \n",
       "\n",
       "[92 rows x 4 columns]"
      ]
     },
     "execution_count": 47,
     "metadata": {},
     "output_type": "execute_result"
    }
   ],
   "source": [
    "df"
   ]
  },
  {
   "cell_type": "code",
   "execution_count": 48,
   "id": "edc992ca",
   "metadata": {},
   "outputs": [],
   "source": [
    "df.drop([0],axis=0,inplace=True)"
   ]
  },
  {
   "cell_type": "code",
   "execution_count": 49,
   "id": "48b79dfb",
   "metadata": {},
   "outputs": [
    {
     "data": {
      "text/html": [
       "<div>\n",
       "<style scoped>\n",
       "    .dataframe tbody tr th:only-of-type {\n",
       "        vertical-align: middle;\n",
       "    }\n",
       "\n",
       "    .dataframe tbody tr th {\n",
       "        vertical-align: top;\n",
       "    }\n",
       "\n",
       "    .dataframe thead th {\n",
       "        text-align: right;\n",
       "    }\n",
       "</style>\n",
       "<table border=\"1\" class=\"dataframe\">\n",
       "  <thead>\n",
       "    <tr style=\"text-align: right;\">\n",
       "      <th></th>\n",
       "      <th>Link</th>\n",
       "      <th>Name</th>\n",
       "      <th>Description</th>\n",
       "      <th>Price(INR)</th>\n",
       "    </tr>\n",
       "  </thead>\n",
       "  <tbody>\n",
       "    <tr>\n",
       "      <th>1</th>\n",
       "      <td>https://www.nike.com/in/t/paris-saint-germain-...</td>\n",
       "      <td>Paris Saint-Germain Club</td>\n",
       "      <td>Men's Fleece Pullover Hoodie</td>\n",
       "      <td>₹3,495</td>\n",
       "    </tr>\n",
       "    <tr>\n",
       "      <th>2</th>\n",
       "      <td>https://www.nike.com/in/t/paris-saint-germain-...</td>\n",
       "      <td>Paris Saint-Germain 2022/23 Stadium Home</td>\n",
       "      <td>Older Kids' Nike Dri-FIT Football Shirt</td>\n",
       "      <td>₹3,995</td>\n",
       "    </tr>\n",
       "    <tr>\n",
       "      <th>3</th>\n",
       "      <td>https://www.nike.com/in/t/jordan-nina-chanel-a...</td>\n",
       "      <td>Jordan x Nina Chanel Abney</td>\n",
       "      <td>Women's Hoodie</td>\n",
       "      <td>₹8,995</td>\n",
       "    </tr>\n",
       "    <tr>\n",
       "      <th>4</th>\n",
       "      <td>https://www.nike.com/in/t/jordan-funnel-neck-t...</td>\n",
       "      <td>Jordan</td>\n",
       "      <td>Women's Funnel-Neck Top</td>\n",
       "      <td>₹6,495</td>\n",
       "    </tr>\n",
       "    <tr>\n",
       "      <th>5</th>\n",
       "      <td>https://www.nike.com/in/t/chelsea-fc-2022-23-s...</td>\n",
       "      <td>Chelsea F.C. 2022/23 Stadium Home</td>\n",
       "      <td>Men's Nike Dri-FIT Football Shirt</td>\n",
       "      <td>₹4,695</td>\n",
       "    </tr>\n",
       "    <tr>\n",
       "      <th>...</th>\n",
       "      <td>...</td>\n",
       "      <td>...</td>\n",
       "      <td>...</td>\n",
       "      <td>...</td>\n",
       "    </tr>\n",
       "    <tr>\n",
       "      <th>87</th>\n",
       "      <td>https://www.nike.com/in/t/dri-fit-dye-training...</td>\n",
       "      <td>Nike Dri-FIT D.Y.E.</td>\n",
       "      <td>Men's Training Tank</td>\n",
       "      <td>₹2,595</td>\n",
       "    </tr>\n",
       "    <tr>\n",
       "      <th>88</th>\n",
       "      <td>https://www.nike.com/in/t/dri-fit-icon-clash-l...</td>\n",
       "      <td>Nike Dri-FIT Icon Clash</td>\n",
       "      <td>Women's Long-Sleeve Running Top</td>\n",
       "      <td>₹3,995</td>\n",
       "    </tr>\n",
       "    <tr>\n",
       "      <th>89</th>\n",
       "      <td>https://www.nike.com/in/t/nikecourt-seasonal-t...</td>\n",
       "      <td>NikeCourt</td>\n",
       "      <td>Men's Seasonal Tennis T-Shirt</td>\n",
       "      <td>₹1,795</td>\n",
       "    </tr>\n",
       "    <tr>\n",
       "      <th>90</th>\n",
       "      <td>https://www.nike.com/in/t/dri-fit-swoosh-run-s...</td>\n",
       "      <td>Nike Dri-FIT Swoosh Run</td>\n",
       "      <td>Women's Short-Sleeve Running Top</td>\n",
       "      <td>₹1,995</td>\n",
       "    </tr>\n",
       "    <tr>\n",
       "      <th>91</th>\n",
       "      <td>https://www.nike.com/in/t/jordan-zion-t-shirt-...</td>\n",
       "      <td>Jordan x Zion</td>\n",
       "      <td>Men's T-Shirt</td>\n",
       "      <td>₹2,195</td>\n",
       "    </tr>\n",
       "  </tbody>\n",
       "</table>\n",
       "<p>91 rows × 4 columns</p>\n",
       "</div>"
      ],
      "text/plain": [
       "                                                 Link  \\\n",
       "1   https://www.nike.com/in/t/paris-saint-germain-...   \n",
       "2   https://www.nike.com/in/t/paris-saint-germain-...   \n",
       "3   https://www.nike.com/in/t/jordan-nina-chanel-a...   \n",
       "4   https://www.nike.com/in/t/jordan-funnel-neck-t...   \n",
       "5   https://www.nike.com/in/t/chelsea-fc-2022-23-s...   \n",
       "..                                                ...   \n",
       "87  https://www.nike.com/in/t/dri-fit-dye-training...   \n",
       "88  https://www.nike.com/in/t/dri-fit-icon-clash-l...   \n",
       "89  https://www.nike.com/in/t/nikecourt-seasonal-t...   \n",
       "90  https://www.nike.com/in/t/dri-fit-swoosh-run-s...   \n",
       "91  https://www.nike.com/in/t/jordan-zion-t-shirt-...   \n",
       "\n",
       "                                        Name  \\\n",
       "1                   Paris Saint-Germain Club   \n",
       "2   Paris Saint-Germain 2022/23 Stadium Home   \n",
       "3                 Jordan x Nina Chanel Abney   \n",
       "4                                     Jordan   \n",
       "5          Chelsea F.C. 2022/23 Stadium Home   \n",
       "..                                       ...   \n",
       "87                       Nike Dri-FIT D.Y.E.   \n",
       "88                   Nike Dri-FIT Icon Clash   \n",
       "89                                 NikeCourt   \n",
       "90                   Nike Dri-FIT Swoosh Run   \n",
       "91                             Jordan x Zion   \n",
       "\n",
       "                                Description Price(INR)  \n",
       "1              Men's Fleece Pullover Hoodie     ₹3,495  \n",
       "2   Older Kids' Nike Dri-FIT Football Shirt     ₹3,995  \n",
       "3                            Women's Hoodie     ₹8,995  \n",
       "4                   Women's Funnel-Neck Top     ₹6,495  \n",
       "5         Men's Nike Dri-FIT Football Shirt     ₹4,695  \n",
       "..                                      ...        ...  \n",
       "87                      Men's Training Tank     ₹2,595  \n",
       "88          Women's Long-Sleeve Running Top     ₹3,995  \n",
       "89            Men's Seasonal Tennis T-Shirt     ₹1,795  \n",
       "90         Women's Short-Sleeve Running Top     ₹1,995  \n",
       "91                            Men's T-Shirt     ₹2,195  \n",
       "\n",
       "[91 rows x 4 columns]"
      ]
     },
     "execution_count": 49,
     "metadata": {},
     "output_type": "execute_result"
    }
   ],
   "source": [
    "df"
   ]
  },
  {
   "cell_type": "code",
   "execution_count": 58,
   "id": "936d300b",
   "metadata": {},
   "outputs": [],
   "source": [
    "df.to_excel(r\"C:\\\\Users\\Hp\\Desktop\\Jupyter\\Web Scraping\\nike.xlsx\")"
   ]
  },
  {
   "cell_type": "code",
   "execution_count": null,
   "id": "a2768797",
   "metadata": {},
   "outputs": [],
   "source": []
  }
 ],
 "metadata": {
  "kernelspec": {
   "display_name": "Python 3 (ipykernel)",
   "language": "python",
   "name": "python3"
  },
  "language_info": {
   "codemirror_mode": {
    "name": "ipython",
    "version": 3
   },
   "file_extension": ".py",
   "mimetype": "text/x-python",
   "name": "python",
   "nbconvert_exporter": "python",
   "pygments_lexer": "ipython3",
   "version": "3.9.7"
  }
 },
 "nbformat": 4,
 "nbformat_minor": 5
}
