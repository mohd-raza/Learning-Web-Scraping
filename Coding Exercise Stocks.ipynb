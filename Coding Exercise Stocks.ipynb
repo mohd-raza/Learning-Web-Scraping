{
 "cells": [
  {
   "cell_type": "code",
   "execution_count": 26,
   "id": "1bfd0dad",
   "metadata": {},
   "outputs": [],
   "source": [
    "from bs4 import BeautifulSoup\n",
    "import requests"
   ]
  },
  {
   "cell_type": "code",
   "execution_count": 27,
   "id": "9ece58e0",
   "metadata": {},
   "outputs": [],
   "source": [
    "url = \"https://www.marketwatch.com/investing/stock/nflx?mod=search_symbol\""
   ]
  },
  {
   "cell_type": "code",
   "execution_count": 28,
   "id": "6f6ae306",
   "metadata": {},
   "outputs": [],
   "source": [
    "page = requests.get(url)"
   ]
  },
  {
   "cell_type": "code",
   "execution_count": 29,
   "id": "1b5faa56",
   "metadata": {},
   "outputs": [],
   "source": [
    "soup = BeautifulSoup(page.text,'lxml')"
   ]
  },
  {
   "cell_type": "markdown",
   "id": "92b4068f",
   "metadata": {},
   "source": [
    "# NETFLIX STOCKS"
   ]
  },
  {
   "cell_type": "markdown",
   "id": "a1e36573",
   "metadata": {},
   "source": [
    "**STOCK PRICE**"
   ]
  },
  {
   "cell_type": "code",
   "execution_count": 30,
   "id": "a0615708",
   "metadata": {},
   "outputs": [
    {
     "data": {
      "text/plain": [
       "'187.20'"
      ]
     },
     "execution_count": 30,
     "metadata": {},
     "output_type": "execute_result"
    }
   ],
   "source": [
    "price = soup.find('bg-quote',class_ = 'value').text\n",
    "price"
   ]
  },
  {
   "cell_type": "markdown",
   "id": "d50ce739",
   "metadata": {},
   "source": [
    "**CLOSE PRICE**"
   ]
  },
  {
   "cell_type": "code",
   "execution_count": 31,
   "id": "e1d0e2c5",
   "metadata": {},
   "outputs": [
    {
     "data": {
      "text/plain": [
       "'$186.98 '"
      ]
     },
     "execution_count": 31,
     "metadata": {},
     "output_type": "execute_result"
    }
   ],
   "source": [
    "close_price = soup.find('td',class_ = \"table__cell u-semi\").text\n",
    "close_price"
   ]
  },
  {
   "cell_type": "markdown",
   "id": "42cbc8fc",
   "metadata": {},
   "source": [
    "**52 week range**"
   ]
  },
  {
   "cell_type": "code",
   "execution_count": 32,
   "id": "13506499",
   "metadata": {},
   "outputs": [],
   "source": [
    "nested = soup.find_all('div',class_ = 'range__header')"
   ]
  },
  {
   "cell_type": "code",
   "execution_count": 33,
   "id": "3601c704",
   "metadata": {},
   "outputs": [
    {
     "data": {
      "text/plain": [
       "[<div class=\"range__header\">\n",
       " <span class=\"primary\">Volume: 5.84M</span>\n",
       " <span class=\"secondary\">65 Day Avg: 13.33M</span>\n",
       " </div>,\n",
       " <div class=\"range__header\">\n",
       " <span class=\"primary\">182.75</span>\n",
       " <span class=\"secondary\">Day Range</span>\n",
       " <span class=\"primary\">189.91</span>\n",
       " </div>,\n",
       " <div class=\"range__header\">\n",
       " <span class=\"primary\">162.71</span>\n",
       " <span class=\"secondary\">52 Week Range</span>\n",
       " <span class=\"primary\">700.99</span>\n",
       " </div>]"
      ]
     },
     "execution_count": 33,
     "metadata": {},
     "output_type": "execute_result"
    }
   ],
   "source": [
    "nested"
   ]
  },
  {
   "cell_type": "code",
   "execution_count": 34,
   "id": "8806d037",
   "metadata": {},
   "outputs": [
    {
     "data": {
      "text/plain": [
       "<div class=\"range__header\">\n",
       "<span class=\"primary\">162.71</span>\n",
       "<span class=\"secondary\">52 Week Range</span>\n",
       "<span class=\"primary\">700.99</span>\n",
       "</div>"
      ]
     },
     "execution_count": 34,
     "metadata": {},
     "output_type": "execute_result"
    }
   ],
   "source": [
    "last = nested[2]\n",
    "last"
   ]
  },
  {
   "cell_type": "code",
   "execution_count": 35,
   "id": "4ca8810e",
   "metadata": {},
   "outputs": [
    {
     "data": {
      "text/plain": [
       "'162.71'"
      ]
     },
     "execution_count": 35,
     "metadata": {},
     "output_type": "execute_result"
    }
   ],
   "source": [
    "lower = last.find_all('span',class_ = \"primary\")[0].text\n",
    "lower"
   ]
  },
  {
   "cell_type": "code",
   "execution_count": 36,
   "id": "91e61fb9",
   "metadata": {},
   "outputs": [
    {
     "data": {
      "text/plain": [
       "'700.99'"
      ]
     },
     "execution_count": 36,
     "metadata": {},
     "output_type": "execute_result"
    }
   ],
   "source": [
    "higher = last.find_all('span',class_ = \"primary\")[1].text\n",
    "higher"
   ]
  },
  {
   "cell_type": "markdown",
   "id": "bd23bae3",
   "metadata": {},
   "source": [
    "**ANALYSIS RATING**"
   ]
  },
  {
   "cell_type": "code",
   "execution_count": 37,
   "id": "95a0e78f",
   "metadata": {},
   "outputs": [],
   "source": [
    "rating = soup.find('li',class_ = 'analyst__option active').text"
   ]
  },
  {
   "cell_type": "code",
   "execution_count": 38,
   "id": "d7c63076",
   "metadata": {},
   "outputs": [
    {
     "data": {
      "text/plain": [
       "'Hold'"
      ]
     },
     "execution_count": 38,
     "metadata": {},
     "output_type": "execute_result"
    }
   ],
   "source": [
    "rating"
   ]
  }
 ],
 "metadata": {
  "kernelspec": {
   "display_name": "Python 3 (ipykernel)",
   "language": "python",
   "name": "python3"
  },
  "language_info": {
   "codemirror_mode": {
    "name": "ipython",
    "version": 3
   },
   "file_extension": ".py",
   "mimetype": "text/x-python",
   "name": "python",
   "nbconvert_exporter": "python",
   "pygments_lexer": "ipython3",
   "version": "3.9.7"
  }
 },
 "nbformat": 4,
 "nbformat_minor": 5
}
