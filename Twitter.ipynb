{
 "cells": [
  {
   "cell_type": "markdown",
   "id": "fd98a0f1",
   "metadata": {},
   "source": [
    "**Importing all the libraries**"
   ]
  },
  {
   "cell_type": "code",
   "execution_count": 1,
   "id": "80598596",
   "metadata": {},
   "outputs": [],
   "source": [
    "from selenium import webdriver\n",
    "from selenium.webdriver.common.by import By\n",
    "from selenium.webdriver.common.keys import Keys\n",
    "from selenium.webdriver.support import expected_conditions as EC\n",
    "from selenium.webdriver.support.ui import WebDriverWait\n",
    "from bs4 import BeautifulSoup\n",
    "import time"
   ]
  },
  {
   "cell_type": "code",
   "execution_count": 31,
   "id": "03df4492",
   "metadata": {},
   "outputs": [],
   "source": [
    "celebrity = 'Ryan Reynolds'"
   ]
  },
  {
   "cell_type": "markdown",
   "id": "c8014fd3",
   "metadata": {},
   "source": [
    "**#Starts the driver and goes to our starting webpage**"
   ]
  },
  {
   "cell_type": "code",
   "execution_count": 32,
   "id": "2ad34375",
   "metadata": {},
   "outputs": [
    {
     "name": "stderr",
     "output_type": "stream",
     "text": [
      "C:\\Users\\Hp\\AppData\\Local\\Temp/ipykernel_16408/4208413412.py:1: DeprecationWarning: executable_path has been deprecated, please pass in a Service object\n",
      "  driver = webdriver.Chrome(\"C:\\\\Users\\Hp\\Documents\\chromedriver.exe\")\n"
     ]
    }
   ],
   "source": [
    "driver = webdriver.Chrome(\"C:\\\\Users\\Hp\\Documents\\chromedriver.exe\")\n",
    "driver.get('https://twitter.com/login')\n",
    "time.sleep(2)"
   ]
  },
  {
   "cell_type": "markdown",
   "id": "adc32ccb",
   "metadata": {},
   "source": [
    "**Logging In**"
   ]
  },
  {
   "cell_type": "code",
   "execution_count": 34,
   "id": "74420749",
   "metadata": {},
   "outputs": [],
   "source": [
    "input_username_path = '//*[@id=\"react-root\"]/div/div/div/main/div/div/div/div[2]/div[2]/div/div[5]/label/div/div[2]/div/input'\n",
    "username = driver.find_element(By.XPATH,input_username_path)\n",
    "username.send_keys('') # enter twitter username or email"
   ]
  },
  {
   "cell_type": "code",
   "execution_count": 35,
   "id": "4b599bf0",
   "metadata": {},
   "outputs": [],
   "source": [
    "driver.find_element(By.XPATH,'//*[@id=\"react-root\"]/div/div/div/main/div/div/div/div[2]/div[2]/div/div[6]').click()"
   ]
  },
  {
   "cell_type": "code",
   "execution_count": 36,
   "id": "30226136",
   "metadata": {},
   "outputs": [],
   "source": [
    "password = driver.find_element(By.XPATH,'//*[@id=\"react-root\"]/div/div/div/main/div/div/div/div[2]/div[2]/div[1]/div/div/div/div[3]/div/label/div/div[2]/div[1]/input')\n",
    "password.send_keys('') # enter password\n",
    "driver.find_element(By.XPATH,'//*[@id=\"react-root\"]/div/div/div/main/div/div/div/div[2]/div[2]/div[2]/div/div/div[1]/div/div/div').click()"
   ]
  },
  {
   "cell_type": "code",
   "execution_count": 37,
   "id": "59946417",
   "metadata": {},
   "outputs": [
    {
     "data": {
      "text/plain": [
       "<selenium.webdriver.remote.webelement.WebElement (session=\"649bf1dc2b0557247df0d478dbfa49e4\", element=\"d322d574-e8b6-41b9-864e-145153262e33\")>"
      ]
     },
     "execution_count": 37,
     "metadata": {},
     "output_type": "execute_result"
    }
   ],
   "source": [
    "input_search_path = '//*[@id=\"react-root\"]/div/div/div[2]/main/div/div/div/div[2]/div/div[2]/div/div/div/div[1]/div/div/div/form/div[1]/div/div/label/div[2]/div/input'\n",
    "WebDriverWait(driver, 10).until(EC.presence_of_element_located((By.XPATH,input_search_path)))"
   ]
  },
  {
   "cell_type": "code",
   "execution_count": 38,
   "id": "0bcdcaae",
   "metadata": {},
   "outputs": [],
   "source": [
    "search = driver.find_element(By.XPATH,'//*[@id=\"react-root\"]/div/div/div[2]/main/div/div/div/div[2]/div/div[2]/div/div/div/div[1]/div/div/div/form/div[1]/div/div/label/div[2]/div/input')\n",
    "search.send_keys(celebrity)\n",
    "search.send_keys(Keys.ENTER)"
   ]
  },
  {
   "cell_type": "code",
   "execution_count": 39,
   "id": "2dc5a922",
   "metadata": {},
   "outputs": [],
   "source": [
    "people = driver.find_element(By.XPATH,'//*[@id=\"react-root\"]/div/div/div[2]/main/div/div/div/div[1]/div/div[1]/div[2]/nav/div/div[2]/div/div[3]/a').click()"
   ]
  },
  {
   "cell_type": "code",
   "execution_count": 40,
   "id": "a0d1b177",
   "metadata": {},
   "outputs": [],
   "source": [
    "time.sleep(2)\n",
    "profile = driver.find_element(By.XPATH,'//*[@id=\"react-root\"]/div/div/div[2]/main/div/div/div/div[1]/div/div[2]/div/section/div/div/div[1]/div/div/div/div/div[2]/div[1]/div[1]/div/div[1]/a').click()"
   ]
  },
  {
   "cell_type": "markdown",
   "id": "7031b461",
   "metadata": {},
   "source": [
    "**Reached CELEBRITY Profile**"
   ]
  },
  {
   "cell_type": "markdown",
   "id": "684d74e0",
   "metadata": {},
   "source": [
    "# Now Scraping Celebrity Tweet"
   ]
  },
  {
   "cell_type": "code",
   "execution_count": 41,
   "id": "7bfd8303",
   "metadata": {},
   "outputs": [],
   "source": [
    "soup = BeautifulSoup(driver.page_source,'lxml')"
   ]
  },
  {
   "cell_type": "code",
   "execution_count": 42,
   "id": "3d2930ce",
   "metadata": {},
   "outputs": [],
   "source": [
    "postings = soup.find_all('div',class_ = 'css-901oao r-1nao33i r-37j5jr r-a023e6 r-16dba41 r-rjixqe r-bcqeeo r-bnwqim r-qvutc0')"
   ]
  },
  {
   "cell_type": "code",
   "execution_count": 43,
   "id": "ec1c19c3",
   "metadata": {},
   "outputs": [
    {
     "data": {
      "text/plain": [
       "3"
      ]
     },
     "execution_count": 43,
     "metadata": {},
     "output_type": "execute_result"
    }
   ],
   "source": [
    "len(postings)"
   ]
  },
  {
   "cell_type": "code",
   "execution_count": 44,
   "id": "0ea78aef",
   "metadata": {},
   "outputs": [],
   "source": [
    "tweets = []\n",
    "while True:\n",
    "    for post in postings:\n",
    "        tweets.append(post.text)\n",
    "    driver.execute_script('window.scrollTo(0,document.body.scrollHeight)')\n",
    "    time.sleep(1)\n",
    "    soup = BeautifulSoup(driver.page_source,'lxml')\n",
    "    postings = soup.find_all('div',class_ = 'css-901oao r-1nao33i r-37j5jr r-a023e6 r-16dba41 r-rjixqe r-bcqeeo r-bnwqim r-qvutc0')\n",
    "    tweets2 = list(set(tweets))\n",
    "    if len(tweets2) > 200:\n",
    "        break\n"
   ]
  },
  {
   "cell_type": "code",
   "execution_count": 45,
   "id": "48fb2cbf",
   "metadata": {},
   "outputs": [
    {
     "data": {
      "text/plain": [
       "202"
      ]
     },
     "execution_count": 45,
     "metadata": {},
     "output_type": "execute_result"
    }
   ],
   "source": [
    "len(tweets2)"
   ]
  },
  {
   "cell_type": "code",
   "execution_count": 47,
   "id": "ac30ad4e",
   "metadata": {},
   "outputs": [],
   "source": [
    "new_tweets = []\n",
    "for i in tweets2:\n",
    "    if 'Free' in i :\n",
    "        new_tweets.append(i)"
   ]
  },
  {
   "cell_type": "code",
   "execution_count": 48,
   "id": "5a85d3fc",
   "metadata": {},
   "outputs": [
    {
     "data": {
      "text/plain": [
       "['Couldnt agree more. Gluten Free cigarettes are still very bad for you. https://twitter.com/yukijtlg/status/1008636144978784257…',\n",
       " 'Trailer tomorrow. Probably. #FreeGuy',\n",
       " '#FreeGuy has already a date set to be released on #DisneyPlus.\\n#Disney announced that the #20thCenturyStudios film starring #RyanReynolds will hit Disney+ on FEB 23, 2022.\\n#FreeGuy was #Disney’s highest grossing non-MCU film globally during pandemic era.',\n",
       " \"Against all odds, #FreeGuy is not only one of the summer's best blockbusters, but it's one of the best video game movies ever made.\\n\\n@VancityReynolds \",\n",
       " \"Sometimes life feels like you're trapped inside a urine-burping septic tank of hate. But then you pause. Take a cleansing breath and here's the trailer for #FreeGuy\",\n",
       " ' #FreeGuy',\n",
       " 'Hey guys, get ready to meet Guy, a guy from the movie #FreeGuy. Don’t miss director Shawn Levy, Ryan Reynolds, Jodie Comer, Joe Keery, Lil Rel Howery and Utkarsh Ambudkar at the #NYCC 20th Century Fox panel, Thursday, Oct 3, 1pm. #BlueShirtGuy',\n",
       " 'See @FreeGuyMovie tonight before the spoilers hit Twitter. Get tickets now! https://bit.ly/FreeGuyTix #FreeGuy',\n",
       " 'Free Guy is certified FRESH! It’s been a labour of love over *checks notes* a very strange three years. I’m so glad #FreeGuy will finally bring its unique brand of feel-good mayhem to the big screen. I had so much fun making it - I hope you feel the same watching it.',\n",
       " 'I remember the first time I met Taika. It was way back in 2019, but it feels like it wasn’t 10 years ago. #FreeGuy #introductions #NewFriends @TaikaWaititi',\n",
       " 'Free Guy is currently Certified Fresh at 86% on @RottenTomatoes. There are literally hundreds of people not named Ryan responsible for this. Here are just two. #FreeGuy',\n",
       " 'We figured it out! #FreeGuy ',\n",
       " 'Free Guy First Reviews: The Biggest Surprise of the Summer << Rotten Tomatoes – Movie and TV News']"
      ]
     },
     "execution_count": 48,
     "metadata": {},
     "output_type": "execute_result"
    }
   ],
   "source": [
    "new_tweets"
   ]
  }
 ],
 "metadata": {
  "kernelspec": {
   "display_name": "Python 3 (ipykernel)",
   "language": "python",
   "name": "python3"
  },
  "language_info": {
   "codemirror_mode": {
    "name": "ipython",
    "version": 3
   },
   "file_extension": ".py",
   "mimetype": "text/x-python",
   "name": "python",
   "nbconvert_exporter": "python",
   "pygments_lexer": "ipython3",
   "version": "3.9.7"
  }
 },
 "nbformat": 4,
 "nbformat_minor": 5
}
